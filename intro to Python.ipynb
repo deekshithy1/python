{
 "cells": [
  {
   "cell_type": "code",
   "execution_count": 1,
   "id": "bb708a15",
   "metadata": {},
   "outputs": [
    {
     "name": "stdout",
     "output_type": "stream",
     "text": [
      "hello world\n"
     ]
    }
   ],
   "source": [
    "print(\"hello world\")"
   ]
  },
  {
   "cell_type": "code",
   "execution_count": 2,
   "id": "1d344b6b",
   "metadata": {},
   "outputs": [
    {
     "name": "stdout",
     "output_type": "stream",
     "text": [
      "deekshith\n"
     ]
    }
   ],
   "source": [
    "print(\"deekshith\")"
   ]
  },
  {
   "cell_type": "code",
   "execution_count": 3,
   "id": "b0477c74",
   "metadata": {},
   "outputs": [
    {
     "ename": "NameError",
     "evalue": "name 'Print' is not defined",
     "output_type": "error",
     "traceback": [
      "\u001b[0;31m---------------------------------------------------------------------------\u001b[0m",
      "\u001b[0;31mNameError\u001b[0m                                 Traceback (most recent call last)",
      "\u001b[0;32m/var/folders/jr/xj36wdw11rv3sqx1vdzrh6v40000gn/T/ipykernel_6330/3049817383.py\u001b[0m in \u001b[0;36m<module>\u001b[0;34m\u001b[0m\n\u001b[0;32m----> 1\u001b[0;31m \u001b[0mPrint\u001b[0m\u001b[0;34m(\u001b[0m\u001b[0;34m\"dekshith\"\u001b[0m\u001b[0;34m)\u001b[0m\u001b[0;34m\u001b[0m\u001b[0;34m\u001b[0m\u001b[0m\n\u001b[0m",
      "\u001b[0;31mNameError\u001b[0m: name 'Print' is not defined"
     ]
    }
   ],
   "source": [
    "Print(\"dekshith\")"
   ]
  },
  {
   "cell_type": "markdown",
   "id": "cf8e5c4e",
   "metadata": {},
   "source": [
    "###python is case sensitive"
   ]
  },
  {
   "cell_type": "markdown",
   "id": "2cf139c0",
   "metadata": {},
   "source": []
  },
  {
   "cell_type": "markdown",
   "id": "f3e696e4",
   "metadata": {},
   "source": [
    "### python is case sensitive"
   ]
  },
  {
   "cell_type": "markdown",
   "id": "8a472237",
   "metadata": {},
   "source": [
    "#### python is case sensitive"
   ]
  },
  {
   "cell_type": "markdown",
   "id": "2bd0cd68",
   "metadata": {},
   "source": [
    "##### python is case sensitive"
   ]
  },
  {
   "cell_type": "code",
   "execution_count": 5,
   "id": "794609d5",
   "metadata": {},
   "outputs": [
    {
     "ename": "NameError",
     "evalue": "name 'deekshith' is not defined",
     "output_type": "error",
     "traceback": [
      "\u001b[0;31m---------------------------------------------------------------------------\u001b[0m",
      "\u001b[0;31mNameError\u001b[0m                                 Traceback (most recent call last)",
      "\u001b[0;32m/var/folders/jr/xj36wdw11rv3sqx1vdzrh6v40000gn/T/ipykernel_6330/4020941568.py\u001b[0m in \u001b[0;36m<module>\u001b[0;34m\u001b[0m\n\u001b[0;32m----> 1\u001b[0;31m \u001b[0mprint\u001b[0m\u001b[0;34m(\u001b[0m\u001b[0mdeekshith\u001b[0m\u001b[0;34m)\u001b[0m\u001b[0;34m\u001b[0m\u001b[0;34m\u001b[0m\u001b[0m\n\u001b[0m",
      "\u001b[0;31mNameError\u001b[0m: name 'deekshith' is not defined"
     ]
    }
   ],
   "source": [
    "print(deekshith)"
   ]
  },
  {
   "cell_type": "code",
   "execution_count": 6,
   "id": "5ecb2932",
   "metadata": {},
   "outputs": [
    {
     "name": "stdout",
     "output_type": "stream",
     "text": [
      "10\n"
     ]
    }
   ],
   "source": [
    "print(10)"
   ]
  },
  {
   "cell_type": "code",
   "execution_count": 7,
   "id": "d6f02688",
   "metadata": {},
   "outputs": [
    {
     "name": "stdout",
     "output_type": "stream",
     "text": [
      "deekshith\n"
     ]
    }
   ],
   "source": [
    "print('deekshith')"
   ]
  },
  {
   "cell_type": "markdown",
   "id": "6648e106",
   "metadata": {},
   "source": [
    "##### string text to be in inverted commas"
   ]
  },
  {
   "cell_type": "markdown",
   "id": "0e73e622",
   "metadata": {},
   "source": [
    "### shortcut keys"
   ]
  },
  {
   "cell_type": "code",
   "execution_count": 8,
   "id": "b1432baa",
   "metadata": {},
   "outputs": [
    {
     "ename": "NameError",
     "evalue": "name 'printf' is not defined",
     "output_type": "error",
     "traceback": [
      "\u001b[0;31m---------------------------------------------------------------------------\u001b[0m",
      "\u001b[0;31mNameError\u001b[0m                                 Traceback (most recent call last)",
      "\u001b[0;32m/var/folders/jr/xj36wdw11rv3sqx1vdzrh6v40000gn/T/ipykernel_6330/3692075439.py\u001b[0m in \u001b[0;36m<module>\u001b[0;34m\u001b[0m\n\u001b[0;32m----> 1\u001b[0;31m \u001b[0mprintf\u001b[0m\u001b[0;34m(\u001b[0m\u001b[0;36m1\u001b[0m\u001b[0;34m)\u001b[0m\u001b[0;34m\u001b[0m\u001b[0;34m\u001b[0m\u001b[0m\n\u001b[0m",
      "\u001b[0;31mNameError\u001b[0m: name 'printf' is not defined"
     ]
    }
   ],
   "source": [
    "printf(1)"
   ]
  },
  {
   "cell_type": "code",
   "execution_count": 9,
   "id": "783adca4",
   "metadata": {},
   "outputs": [
    {
     "name": "stdout",
     "output_type": "stream",
     "text": [
      "1\n"
     ]
    }
   ],
   "source": [
    "print(1)"
   ]
  },
  {
   "cell_type": "markdown",
   "id": "ecb84533",
   "metadata": {},
   "source": [
    "### run->shift+return\n"
   ]
  },
  {
   "cell_type": "markdown",
   "id": "2efff378",
   "metadata": {},
   "source": [
    "### add a cell above->a\n",
    "### add a cell below->b\n",
    "### delete a cell->x"
   ]
  },
  {
   "cell_type": "code",
   "execution_count": 10,
   "id": "431b99cb",
   "metadata": {},
   "outputs": [
    {
     "data": {
      "text/plain": [
       "int"
      ]
     },
     "execution_count": 10,
     "metadata": {},
     "output_type": "execute_result"
    }
   ],
   "source": [
    "x=10;\n",
    "type(x)"
   ]
  },
  {
   "cell_type": "code",
   "execution_count": 11,
   "id": "22252fa1",
   "metadata": {},
   "outputs": [
    {
     "data": {
      "text/plain": [
       "float"
      ]
     },
     "execution_count": 11,
     "metadata": {},
     "output_type": "execute_result"
    }
   ],
   "source": [
    "z=10.5\n",
    "type(z)"
   ]
  },
  {
   "cell_type": "code",
   "execution_count": 13,
   "id": "b3942820",
   "metadata": {},
   "outputs": [
    {
     "data": {
      "text/plain": [
       "str"
      ]
     },
     "execution_count": 13,
     "metadata": {},
     "output_type": "execute_result"
    }
   ],
   "source": [
    "course=\"Data science\"\n",
    "type(course)"
   ]
  },
  {
   "cell_type": "markdown",
   "id": "4a2b45c8",
   "metadata": {},
   "source": [
    "### variables"
   ]
  },
  {
   "cell_type": "code",
   "execution_count": 14,
   "id": "4ab7ae6b",
   "metadata": {},
   "outputs": [
    {
     "data": {
      "text/plain": [
       "('ds', 'ba', 'ML')"
      ]
     },
     "execution_count": 14,
     "metadata": {},
     "output_type": "execute_result"
    }
   ],
   "source": [
    "coursenames=\"ds\",\"ba\",\"ML\"\n",
    "coursenames"
   ]
  },
  {
   "cell_type": "code",
   "execution_count": 15,
   "id": "ff99d8a1",
   "metadata": {},
   "outputs": [
    {
     "ename": "SyntaxError",
     "evalue": "invalid syntax (3684454990.py, line 1)",
     "output_type": "error",
     "traceback": [
      "\u001b[0;36m  File \u001b[0;32m\"/var/folders/jr/xj36wdw11rv3sqx1vdzrh6v40000gn/T/ipykernel_6330/3684454990.py\"\u001b[0;36m, line \u001b[0;32m1\u001b[0m\n\u001b[0;31m    course names=\"ds\",\"ba\",\"ML\"\u001b[0m\n\u001b[0m           ^\u001b[0m\n\u001b[0;31mSyntaxError\u001b[0m\u001b[0;31m:\u001b[0m invalid syntax\n"
     ]
    }
   ],
   "source": [
    "course names=\"ds\",\"ba\",\"ML\"\n",
    "course names"
   ]
  },
  {
   "cell_type": "code",
   "execution_count": 16,
   "id": "5f14cd1f",
   "metadata": {},
   "outputs": [
    {
     "ename": "SyntaxError",
     "evalue": "cannot assign to operator (2928699348.py, line 1)",
     "output_type": "error",
     "traceback": [
      "\u001b[0;36m  File \u001b[0;32m\"/var/folders/jr/xj36wdw11rv3sqx1vdzrh6v40000gn/T/ipykernel_6330/2928699348.py\"\u001b[0;36m, line \u001b[0;32m1\u001b[0m\n\u001b[0;31m    course-names=\"ds\",\"ba\",\"ML\"\u001b[0m\n\u001b[0m    ^\u001b[0m\n\u001b[0;31mSyntaxError\u001b[0m\u001b[0;31m:\u001b[0m cannot assign to operator\n"
     ]
    }
   ],
   "source": [
    "course-names=\"ds\",\"ba\",\"ML\"\n",
    "course-names"
   ]
  },
  {
   "cell_type": "code",
   "execution_count": 17,
   "id": "b52c3e0e",
   "metadata": {},
   "outputs": [
    {
     "data": {
      "text/plain": [
       "('ds', 'ba', 'ML')"
      ]
     },
     "execution_count": 17,
     "metadata": {},
     "output_type": "execute_result"
    }
   ],
   "source": [
    "course_names=\"ds\",\"ba\",\"ML\"\n",
    "course_names"
   ]
  },
  {
   "cell_type": "code",
   "execution_count": null,
   "id": "f61671aa",
   "metadata": {},
   "outputs": [],
   "source": []
  }
 ],
 "metadata": {
  "kernelspec": {
   "display_name": "Python 3 (ipykernel)",
   "language": "python",
   "name": "python3"
  },
  "language_info": {
   "codemirror_mode": {
    "name": "ipython",
    "version": 3
   },
   "file_extension": ".py",
   "mimetype": "text/x-python",
   "name": "python",
   "nbconvert_exporter": "python",
   "pygments_lexer": "ipython3",
   "version": "3.9.13"
  }
 },
 "nbformat": 4,
 "nbformat_minor": 5
}
